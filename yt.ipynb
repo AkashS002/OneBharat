{
 "cells": [
  {
   "cell_type": "code",
   "execution_count": 1,
   "id": "de09945b-bb2e-4c0f-95a5-7fae812cacea",
   "metadata": {},
   "outputs": [],
   "source": [
    "import pandas as pd\n",
    "import matplotlib.pyplot as plt"
   ]
  },
  {
   "cell_type": "code",
   "execution_count": 2,
   "id": "117c4933-1a06-4194-8df9-8c0ac81b56f3",
   "metadata": {},
   "outputs": [],
   "source": [
    "df=pd.read_csv('ytdata.csv',usecols=[\"Video title\", \"Video publish time\", \"Views\"])"
   ]
  },
  {
   "cell_type": "code",
   "execution_count": 3,
   "id": "fbfb6837-07e6-41e8-9f0b-93aab6b0de61",
   "metadata": {},
   "outputs": [
    {
     "data": {
      "text/html": [
       "<div>\n",
       "<style scoped>\n",
       "    .dataframe tbody tr th:only-of-type {\n",
       "        vertical-align: middle;\n",
       "    }\n",
       "\n",
       "    .dataframe tbody tr th {\n",
       "        vertical-align: top;\n",
       "    }\n",
       "\n",
       "    .dataframe thead th {\n",
       "        text-align: right;\n",
       "    }\n",
       "</style>\n",
       "<table border=\"1\" class=\"dataframe\">\n",
       "  <thead>\n",
       "    <tr style=\"text-align: right;\">\n",
       "      <th></th>\n",
       "      <th>Video title</th>\n",
       "      <th>Video publish time</th>\n",
       "      <th>Views</th>\n",
       "    </tr>\n",
       "  </thead>\n",
       "  <tbody>\n",
       "    <tr>\n",
       "      <th>58</th>\n",
       "      <td>Python: Combine All Excel Files in a Folder in...</td>\n",
       "      <td>3-Jul-21</td>\n",
       "      <td>8719</td>\n",
       "    </tr>\n",
       "    <tr>\n",
       "      <th>29</th>\n",
       "      <td>Automate Excel Reporting Using Python (Real-Li...</td>\n",
       "      <td>9-Oct-21</td>\n",
       "      <td>14713</td>\n",
       "    </tr>\n",
       "    <tr>\n",
       "      <th>40</th>\n",
       "      <td>How To Create An Interactive Gantt Diagram In ...</td>\n",
       "      <td>25-Jul-20</td>\n",
       "      <td>15731</td>\n",
       "    </tr>\n",
       "    <tr>\n",
       "      <th>38</th>\n",
       "      <td>Compare Two Excel Sheets with Different Number...</td>\n",
       "      <td>3-Apr-22</td>\n",
       "      <td>15348</td>\n",
       "    </tr>\n",
       "    <tr>\n",
       "      <th>26</th>\n",
       "      <td>Create and Distribute Excel Files using Python...</td>\n",
       "      <td>6-Nov-21</td>\n",
       "      <td>6170</td>\n",
       "    </tr>\n",
       "  </tbody>\n",
       "</table>\n",
       "</div>"
      ],
      "text/plain": [
       "                                          Video title Video publish time  \\\n",
       "58  Python: Combine All Excel Files in a Folder in...           3-Jul-21   \n",
       "29  Automate Excel Reporting Using Python (Real-Li...           9-Oct-21   \n",
       "40  How To Create An Interactive Gantt Diagram In ...          25-Jul-20   \n",
       "38  Compare Two Excel Sheets with Different Number...           3-Apr-22   \n",
       "26  Create and Distribute Excel Files using Python...           6-Nov-21   \n",
       "\n",
       "    Views  \n",
       "58   8719  \n",
       "29  14713  \n",
       "40  15731  \n",
       "38  15348  \n",
       "26   6170  "
      ]
     },
     "execution_count": 3,
     "metadata": {},
     "output_type": "execute_result"
    }
   ],
   "source": [
    "df.sample(5)"
   ]
  },
  {
   "cell_type": "code",
   "execution_count": 4,
   "id": "039ecd39-cb5b-400f-afde-e7389ca45eb5",
   "metadata": {},
   "outputs": [
    {
     "name": "stdout",
     "output_type": "stream",
     "text": [
      "<class 'pandas.core.frame.DataFrame'>\n",
      "RangeIndex: 107 entries, 0 to 106\n",
      "Data columns (total 3 columns):\n",
      " #   Column              Non-Null Count  Dtype \n",
      "---  ------              --------------  ----- \n",
      " 0   Video title         107 non-null    object\n",
      " 1   Video publish time  102 non-null    object\n",
      " 2   Views               107 non-null    int64 \n",
      "dtypes: int64(1), object(2)\n",
      "memory usage: 2.6+ KB\n"
     ]
    }
   ],
   "source": [
    "df.info()"
   ]
  },
  {
   "cell_type": "code",
   "execution_count": 5,
   "id": "63c55b67-1a07-468b-94a1-db5ccd1afda6",
   "metadata": {},
   "outputs": [
    {
     "data": {
      "text/html": [
       "<div>\n",
       "<style scoped>\n",
       "    .dataframe tbody tr th:only-of-type {\n",
       "        vertical-align: middle;\n",
       "    }\n",
       "\n",
       "    .dataframe tbody tr th {\n",
       "        vertical-align: top;\n",
       "    }\n",
       "\n",
       "    .dataframe thead th {\n",
       "        text-align: right;\n",
       "    }\n",
       "</style>\n",
       "<table border=\"1\" class=\"dataframe\">\n",
       "  <thead>\n",
       "    <tr style=\"text-align: right;\">\n",
       "      <th></th>\n",
       "      <th>Video title</th>\n",
       "      <th>Video publish time</th>\n",
       "      <th>Views</th>\n",
       "    </tr>\n",
       "    <tr>\n",
       "      <th>date</th>\n",
       "      <th></th>\n",
       "      <th></th>\n",
       "      <th></th>\n",
       "    </tr>\n",
       "  </thead>\n",
       "  <tbody>\n",
       "    <tr>\n",
       "      <th>2020-07-05</th>\n",
       "      <td>\\uc0\\u55357 \\u56520  How To Get Stock Data In ...</td>\n",
       "      <td>5-Jul-20</td>\n",
       "      <td>23304</td>\n",
       "    </tr>\n",
       "    <tr>\n",
       "      <th>2020-07-18</th>\n",
       "      <td>\\uc0\\u55357 \\u56507  How To Create A GUI In Py...</td>\n",
       "      <td>18-Jul-20</td>\n",
       "      <td>3058</td>\n",
       "    </tr>\n",
       "    <tr>\n",
       "      <th>2020-07-25</th>\n",
       "      <td>How To Create An Interactive Gantt Diagram In ...</td>\n",
       "      <td>25-Jul-20</td>\n",
       "      <td>15731</td>\n",
       "    </tr>\n",
       "    <tr>\n",
       "      <th>2020-07-27</th>\n",
       "      <td>How To Execute A Python Script From Excel Usin...</td>\n",
       "      <td>27-Jul-20</td>\n",
       "      <td>42471</td>\n",
       "    </tr>\n",
       "    <tr>\n",
       "      <th>2020-08-02</th>\n",
       "      <td>How To Create A Treemap &amp; Sunburst Chart In Py...</td>\n",
       "      <td>2-Aug-20</td>\n",
       "      <td>6604</td>\n",
       "    </tr>\n",
       "  </tbody>\n",
       "</table>\n",
       "</div>"
      ],
      "text/plain": [
       "                                                  Video title  \\\n",
       "date                                                            \n",
       "2020-07-05  \\uc0\\u55357 \\u56520  How To Get Stock Data In ...   \n",
       "2020-07-18  \\uc0\\u55357 \\u56507  How To Create A GUI In Py...   \n",
       "2020-07-25  How To Create An Interactive Gantt Diagram In ...   \n",
       "2020-07-27  How To Execute A Python Script From Excel Usin...   \n",
       "2020-08-02  How To Create A Treemap & Sunburst Chart In Py...   \n",
       "\n",
       "           Video publish time  Views  \n",
       "date                                  \n",
       "2020-07-05           5-Jul-20  23304  \n",
       "2020-07-18          18-Jul-20   3058  \n",
       "2020-07-25          25-Jul-20  15731  \n",
       "2020-07-27          27-Jul-20  42471  \n",
       "2020-08-02           2-Aug-20   6604  "
      ]
     },
     "execution_count": 5,
     "metadata": {},
     "output_type": "execute_result"
    }
   ],
   "source": [
    "# convert the cleaning process into a function\n",
    "def clean_data(df):\n",
    "    return (\n",
    "        df.dropna()\n",
    "        .assign(date=pd.to_datetime(df[\"Video publish time\"],format='mixed'))\n",
    "        .set_index(\"date\")\n",
    "        .sort_index()\n",
    "    )\n",
    "clean_df = clean_data(df)\n",
    "clean_df.head()"
   ]
  },
  {
   "cell_type": "code",
   "execution_count": 6,
   "id": "776aef71-2ddc-4da3-a443-1187777d83c8",
   "metadata": {},
   "outputs": [
    {
     "data": {
      "text/plain": [
       "date\n",
       "2020-07-05    23304\n",
       "2020-07-18     3058\n",
       "2020-07-25    15731\n",
       "2020-07-27    42471\n",
       "2020-08-02     6604\n",
       "              ...  \n",
       "2022-08-28     5400\n",
       "2022-09-03     2143\n",
       "2022-09-10     4979\n",
       "2022-09-17     2238\n",
       "2022-09-24     2221\n",
       "Name: Views, Length: 102, dtype: int64"
      ]
     },
     "execution_count": 6,
     "metadata": {},
     "output_type": "execute_result"
    }
   ],
   "source": [
    "clean_df.Views"
   ]
  },
  {
   "cell_type": "code",
   "execution_count": 18,
   "id": "ed95e932-744d-4afa-8c00-4ef95a296588",
   "metadata": {},
   "outputs": [
    {
     "data": {
      "text/plain": [
       "<Axes: title={'center': 'Time Series Analysis'}, xlabel='date'>"
      ]
     },
     "execution_count": 18,
     "metadata": {},
     "output_type": "execute_result"
    },
    {
     "data": {
      "image/png": "[encoded data removed]",
      "text/plain": [
       "<Figure size 1500x300 with 1 Axes>"
      ]
     },
     "metadata": {},
     "output_type": "display_data"
    }
   ],
   "source": [
    "# Plot the data\n",
    "(clean_df\n",
    " .Views\n",
    " .clip(upper=150_000)\n",
    " .resample(\"ME\")\n",
    " .mean()\n",
    " .plot(kind='line', figsize=(15,3), title=\"Time Series Analysis\")\n",
    ")"
   ]
  },
  {
   "cell_type": "code",
   "execution_count": null,
   "id": "b9e2dd19-0342-4494-82cc-07f9d4663ea8",
   "metadata": {},
   "outputs": [],
   "source": []
  },
  {
   "cell_type": "code",
   "execution_count": null,
   "id": "7ca72076-0fad-4b5e-af99-1589aac27e0b",
   "metadata": {},
   "outputs": [],
   "source": []
  },
  {
   "cell_type": "code",
   "execution_count": null,
   "id": "6e2aa5c6-88da-49fc-af3c-0fed23bb351d",
   "metadata": {},
   "outputs": [],
   "source": []
  }
 ],
 "metadata": {
  "kernelspec": {
   "display_name": "Python 3 (ipykernel)",
   "language": "python",
   "name": "python3"
  },
  "language_info": {
   "codemirror_mode": {
    "name": "ipython",
    "version": 3
   },
   "file_extension": ".py",
   "mimetype": "text/x-python",
   "name": "python",
   "nbconvert_exporter": "python",
   "pygments_lexer": "ipython3",
   "version": "3.12.4"
  }
 },
 "nbformat": 4,
 "nbformat_minor": 5
}
